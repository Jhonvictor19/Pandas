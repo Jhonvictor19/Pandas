{
 "cells": [
  {
   "cell_type": "code",
   "execution_count": 1,
   "id": "9a1112d6-303f-4fd9-a0ab-64443e66154c",
   "metadata": {},
   "outputs": [],
   "source": [
    "import pandas as pd"
   ]
  },
  {
   "cell_type": "code",
   "execution_count": 7,
   "id": "36613a5a-7e65-4ef7-a8c4-d6f9b76e4ba7",
   "metadata": {},
   "outputs": [],
   "source": [
    "df=pd.read_csv(\"employee_promotion.csv\")"
   ]
  },
  {
   "cell_type": "code",
   "execution_count": 9,
   "id": "662ac41c-ce08-4ce5-ba98-379751b12aa1",
   "metadata": {},
   "outputs": [
    {
     "data": {
      "text/html": [
       "<div>\n",
       "<style scoped>\n",
       "    .dataframe tbody tr th:only-of-type {\n",
       "        vertical-align: middle;\n",
       "    }\n",
       "\n",
       "    .dataframe tbody tr th {\n",
       "        vertical-align: top;\n",
       "    }\n",
       "\n",
       "    .dataframe thead th {\n",
       "        text-align: right;\n",
       "    }\n",
       "</style>\n",
       "<table border=\"1\" class=\"dataframe\">\n",
       "  <thead>\n",
       "    <tr style=\"text-align: right;\">\n",
       "      <th></th>\n",
       "      <th>employee_id</th>\n",
       "      <th>department</th>\n",
       "      <th>region</th>\n",
       "      <th>education</th>\n",
       "      <th>gender</th>\n",
       "      <th>recruitment_channel</th>\n",
       "      <th>no_of_trainings</th>\n",
       "      <th>age</th>\n",
       "      <th>previous_year_rating</th>\n",
       "      <th>length_of_service</th>\n",
       "      <th>awards_won</th>\n",
       "      <th>avg_training_score</th>\n",
       "      <th>is_promoted</th>\n",
       "    </tr>\n",
       "  </thead>\n",
       "  <tbody>\n",
       "    <tr>\n",
       "      <th>0</th>\n",
       "      <td>65438</td>\n",
       "      <td>Sales &amp; Marketing</td>\n",
       "      <td>region_7</td>\n",
       "      <td>Master's &amp; above</td>\n",
       "      <td>f</td>\n",
       "      <td>sourcing</td>\n",
       "      <td>1</td>\n",
       "      <td>35</td>\n",
       "      <td>5.0</td>\n",
       "      <td>8</td>\n",
       "      <td>0</td>\n",
       "      <td>49.0</td>\n",
       "      <td>0</td>\n",
       "    </tr>\n",
       "    <tr>\n",
       "      <th>1</th>\n",
       "      <td>65141</td>\n",
       "      <td>Operations</td>\n",
       "      <td>region_22</td>\n",
       "      <td>Bachelor's</td>\n",
       "      <td>m</td>\n",
       "      <td>other</td>\n",
       "      <td>1</td>\n",
       "      <td>30</td>\n",
       "      <td>5.0</td>\n",
       "      <td>4</td>\n",
       "      <td>0</td>\n",
       "      <td>60.0</td>\n",
       "      <td>0</td>\n",
       "    </tr>\n",
       "    <tr>\n",
       "      <th>2</th>\n",
       "      <td>7513</td>\n",
       "      <td>Sales &amp; Marketing</td>\n",
       "      <td>region_19</td>\n",
       "      <td>Bachelor's</td>\n",
       "      <td>m</td>\n",
       "      <td>sourcing</td>\n",
       "      <td>1</td>\n",
       "      <td>34</td>\n",
       "      <td>3.0</td>\n",
       "      <td>7</td>\n",
       "      <td>0</td>\n",
       "      <td>50.0</td>\n",
       "      <td>0</td>\n",
       "    </tr>\n",
       "    <tr>\n",
       "      <th>3</th>\n",
       "      <td>2542</td>\n",
       "      <td>Sales &amp; Marketing</td>\n",
       "      <td>region_23</td>\n",
       "      <td>Bachelor's</td>\n",
       "      <td>m</td>\n",
       "      <td>other</td>\n",
       "      <td>2</td>\n",
       "      <td>39</td>\n",
       "      <td>1.0</td>\n",
       "      <td>10</td>\n",
       "      <td>0</td>\n",
       "      <td>50.0</td>\n",
       "      <td>0</td>\n",
       "    </tr>\n",
       "    <tr>\n",
       "      <th>4</th>\n",
       "      <td>48945</td>\n",
       "      <td>Technology</td>\n",
       "      <td>region_26</td>\n",
       "      <td>Bachelor's</td>\n",
       "      <td>m</td>\n",
       "      <td>other</td>\n",
       "      <td>1</td>\n",
       "      <td>45</td>\n",
       "      <td>3.0</td>\n",
       "      <td>2</td>\n",
       "      <td>0</td>\n",
       "      <td>73.0</td>\n",
       "      <td>0</td>\n",
       "    </tr>\n",
       "  </tbody>\n",
       "</table>\n",
       "</div>"
      ],
      "text/plain": [
       "   employee_id         department     region         education gender  \\\n",
       "0        65438  Sales & Marketing   region_7  Master's & above      f   \n",
       "1        65141         Operations  region_22        Bachelor's      m   \n",
       "2         7513  Sales & Marketing  region_19        Bachelor's      m   \n",
       "3         2542  Sales & Marketing  region_23        Bachelor's      m   \n",
       "4        48945         Technology  region_26        Bachelor's      m   \n",
       "\n",
       "  recruitment_channel  no_of_trainings  age  previous_year_rating  \\\n",
       "0            sourcing                1   35                   5.0   \n",
       "1               other                1   30                   5.0   \n",
       "2            sourcing                1   34                   3.0   \n",
       "3               other                2   39                   1.0   \n",
       "4               other                1   45                   3.0   \n",
       "\n",
       "   length_of_service  awards_won  avg_training_score  is_promoted  \n",
       "0                  8           0                49.0            0  \n",
       "1                  4           0                60.0            0  \n",
       "2                  7           0                50.0            0  \n",
       "3                 10           0                50.0            0  \n",
       "4                  2           0                73.0            0  "
      ]
     },
     "execution_count": 9,
     "metadata": {},
     "output_type": "execute_result"
    }
   ],
   "source": [
    "df.head()"
   ]
  },
  {
   "cell_type": "code",
   "execution_count": 15,
   "id": "bddb3549-0d1f-4288-a194-c3b13a6408e1",
   "metadata": {},
   "outputs": [
    {
     "name": "stdout",
     "output_type": "stream",
     "text": [
      "<class 'pandas.core.frame.DataFrame'>\n",
      "RangeIndex: 54808 entries, 0 to 54807\n",
      "Data columns (total 13 columns):\n",
      " #   Column                Non-Null Count  Dtype  \n",
      "---  ------                --------------  -----  \n",
      " 0   employee_id           54808 non-null  int64  \n",
      " 1   department            54808 non-null  object \n",
      " 2   region                54808 non-null  object \n",
      " 3   education             52399 non-null  object \n",
      " 4   gender                54808 non-null  object \n",
      " 5   recruitment_channel   54808 non-null  object \n",
      " 6   no_of_trainings       54808 non-null  int64  \n",
      " 7   age                   54808 non-null  int64  \n",
      " 8   previous_year_rating  50684 non-null  float64\n",
      " 9   length_of_service     54808 non-null  int64  \n",
      " 10  awards_won            54808 non-null  int64  \n",
      " 11  avg_training_score    52248 non-null  float64\n",
      " 12  is_promoted           54808 non-null  int64  \n",
      "dtypes: float64(2), int64(6), object(5)\n",
      "memory usage: 5.4+ MB\n"
     ]
    }
   ],
   "source": [
    "df.info()"
   ]
  },
  {
   "cell_type": "code",
   "execution_count": 17,
   "id": "c3985101-501e-4dd8-aea5-5f59200420cb",
   "metadata": {},
   "outputs": [
    {
     "data": {
      "text/html": [
       "<div>\n",
       "<style scoped>\n",
       "    .dataframe tbody tr th:only-of-type {\n",
       "        vertical-align: middle;\n",
       "    }\n",
       "\n",
       "    .dataframe tbody tr th {\n",
       "        vertical-align: top;\n",
       "    }\n",
       "\n",
       "    .dataframe thead th {\n",
       "        text-align: right;\n",
       "    }\n",
       "</style>\n",
       "<table border=\"1\" class=\"dataframe\">\n",
       "  <thead>\n",
       "    <tr style=\"text-align: right;\">\n",
       "      <th></th>\n",
       "      <th>employee_id</th>\n",
       "      <th>department</th>\n",
       "      <th>region</th>\n",
       "      <th>education</th>\n",
       "      <th>gender</th>\n",
       "      <th>recruitment_channel</th>\n",
       "      <th>no_of_trainings</th>\n",
       "      <th>age</th>\n",
       "      <th>previous_year_rating</th>\n",
       "      <th>length_of_service</th>\n",
       "      <th>awards_won</th>\n",
       "      <th>avg_training_score</th>\n",
       "      <th>is_promoted</th>\n",
       "    </tr>\n",
       "  </thead>\n",
       "  <tbody>\n",
       "    <tr>\n",
       "      <th>54803</th>\n",
       "      <td>3030</td>\n",
       "      <td>Technology</td>\n",
       "      <td>region_14</td>\n",
       "      <td>Bachelor's</td>\n",
       "      <td>m</td>\n",
       "      <td>sourcing</td>\n",
       "      <td>1</td>\n",
       "      <td>48</td>\n",
       "      <td>3.0</td>\n",
       "      <td>17</td>\n",
       "      <td>0</td>\n",
       "      <td>78.0</td>\n",
       "      <td>0</td>\n",
       "    </tr>\n",
       "    <tr>\n",
       "      <th>54804</th>\n",
       "      <td>74592</td>\n",
       "      <td>Operations</td>\n",
       "      <td>region_27</td>\n",
       "      <td>Master's &amp; above</td>\n",
       "      <td>f</td>\n",
       "      <td>other</td>\n",
       "      <td>1</td>\n",
       "      <td>37</td>\n",
       "      <td>2.0</td>\n",
       "      <td>6</td>\n",
       "      <td>0</td>\n",
       "      <td>56.0</td>\n",
       "      <td>0</td>\n",
       "    </tr>\n",
       "    <tr>\n",
       "      <th>54805</th>\n",
       "      <td>13918</td>\n",
       "      <td>Analytics</td>\n",
       "      <td>region_1</td>\n",
       "      <td>Bachelor's</td>\n",
       "      <td>m</td>\n",
       "      <td>other</td>\n",
       "      <td>1</td>\n",
       "      <td>27</td>\n",
       "      <td>5.0</td>\n",
       "      <td>3</td>\n",
       "      <td>0</td>\n",
       "      <td>79.0</td>\n",
       "      <td>0</td>\n",
       "    </tr>\n",
       "    <tr>\n",
       "      <th>54806</th>\n",
       "      <td>13614</td>\n",
       "      <td>Sales &amp; Marketing</td>\n",
       "      <td>region_9</td>\n",
       "      <td>NaN</td>\n",
       "      <td>m</td>\n",
       "      <td>sourcing</td>\n",
       "      <td>1</td>\n",
       "      <td>29</td>\n",
       "      <td>1.0</td>\n",
       "      <td>2</td>\n",
       "      <td>0</td>\n",
       "      <td>NaN</td>\n",
       "      <td>0</td>\n",
       "    </tr>\n",
       "    <tr>\n",
       "      <th>54807</th>\n",
       "      <td>51526</td>\n",
       "      <td>HR</td>\n",
       "      <td>region_22</td>\n",
       "      <td>Bachelor's</td>\n",
       "      <td>m</td>\n",
       "      <td>other</td>\n",
       "      <td>1</td>\n",
       "      <td>27</td>\n",
       "      <td>1.0</td>\n",
       "      <td>5</td>\n",
       "      <td>0</td>\n",
       "      <td>49.0</td>\n",
       "      <td>0</td>\n",
       "    </tr>\n",
       "  </tbody>\n",
       "</table>\n",
       "</div>"
      ],
      "text/plain": [
       "       employee_id         department     region         education gender  \\\n",
       "54803         3030         Technology  region_14        Bachelor's      m   \n",
       "54804        74592         Operations  region_27  Master's & above      f   \n",
       "54805        13918          Analytics   region_1        Bachelor's      m   \n",
       "54806        13614  Sales & Marketing   region_9               NaN      m   \n",
       "54807        51526                 HR  region_22        Bachelor's      m   \n",
       "\n",
       "      recruitment_channel  no_of_trainings  age  previous_year_rating  \\\n",
       "54803            sourcing                1   48                   3.0   \n",
       "54804               other                1   37                   2.0   \n",
       "54805               other                1   27                   5.0   \n",
       "54806            sourcing                1   29                   1.0   \n",
       "54807               other                1   27                   1.0   \n",
       "\n",
       "       length_of_service  awards_won  avg_training_score  is_promoted  \n",
       "54803                 17           0                78.0            0  \n",
       "54804                  6           0                56.0            0  \n",
       "54805                  3           0                79.0            0  \n",
       "54806                  2           0                 NaN            0  \n",
       "54807                  5           0                49.0            0  "
      ]
     },
     "execution_count": 17,
     "metadata": {},
     "output_type": "execute_result"
    }
   ],
   "source": [
    "df.tail()"
   ]
  },
  {
   "cell_type": "code",
   "execution_count": 27,
   "id": "bddaf0cb-c75c-4bf9-b2a2-249356afea56",
   "metadata": {},
   "outputs": [
    {
     "data": {
      "text/plain": [
       "0        False\n",
       "1        False\n",
       "2        False\n",
       "3        False\n",
       "4        False\n",
       "         ...  \n",
       "54803    False\n",
       "54804    False\n",
       "54805    False\n",
       "54806    False\n",
       "54807    False\n",
       "Length: 54808, dtype: bool"
      ]
     },
     "execution_count": 27,
     "metadata": {},
     "output_type": "execute_result"
    }
   ],
   "source": [
    "df.duplicated()"
   ]
  },
  {
   "cell_type": "raw",
   "id": "36635e6a-5397-4d3a-a205-9176720bb05a",
   "metadata": {},
   "source": [
    "df['New Column']"
   ]
  },
  {
   "cell_type": "code",
   "execution_count": 55,
   "id": "d4e5c8ef-6a11-41da-b433-e08641bf74cb",
   "metadata": {},
   "outputs": [],
   "source": [
    "df.column = ['column 1','column 2','column 3']"
   ]
  },
  {
   "cell_type": "code",
   "execution_count": 59,
   "id": "62780e8b-87dd-49b3-9eac-5819657af8de",
   "metadata": {},
   "outputs": [
    {
     "data": {
      "text/plain": [
       "employee_id             54808\n",
       "department              54808\n",
       "region                  54808\n",
       "education               52399\n",
       "gender                  54808\n",
       "recruitment_channel     54808\n",
       "no_of_trainings         54808\n",
       "age                     54808\n",
       "previous_year_rating    50684\n",
       "length_of_service       54808\n",
       "awards_won              54808\n",
       "avg_training_score      52248\n",
       "is_promoted             54808\n",
       "dtype: int64"
      ]
     },
     "execution_count": 59,
     "metadata": {},
     "output_type": "execute_result"
    }
   ],
   "source": [
    "df.count()"
   ]
  },
  {
   "cell_type": "code",
   "execution_count": null,
   "id": "33340ee2-619a-4721-99e1-8fdd167bc0e7",
   "metadata": {},
   "outputs": [],
   "source": [
    "s.add(3)"
   ]
  },
  {
   "cell_type": "code",
   "execution_count": null,
   "id": "5ac5f49d-be38-43b4-a813-9c96bbb1084b",
   "metadata": {},
   "outputs": [],
   "source": [
    "s.sub(2)"
   ]
  },
  {
   "cell_type": "code",
   "execution_count": null,
   "id": "21ad877a-9585-425c-88ce-946595ea09a9",
   "metadata": {},
   "outputs": [],
   "source": [
    "s.mul(4)"
   ]
  },
  {
   "cell_type": "code",
   "execution_count": null,
   "id": "cd44b26d-1287-43f1-ba4e-2f83d07482bd",
   "metadata": {},
   "outputs": [],
   "source": [
    "s.div(6)"
   ]
  },
  {
   "cell_type": "code",
   "execution_count": null,
   "id": "c4a3403d-366a-49ac-83cc-1282638888ad",
   "metadata": {},
   "outputs": [],
   "source": [
    "df.min()"
   ]
  },
  {
   "cell_type": "code",
   "execution_count": null,
   "id": "7782be8b-beed-471f-9363-9ad9e4807437",
   "metadata": {},
   "outputs": [],
   "source": [
    "df.max()"
   ]
  },
  {
   "cell_type": "code",
   "execution_count": 77,
   "id": "b274612e-fffa-4e0f-9bbd-6df20aa32504",
   "metadata": {},
   "outputs": [
    {
     "data": {
      "text/html": [
       "<div>\n",
       "<style scoped>\n",
       "    .dataframe tbody tr th:only-of-type {\n",
       "        vertical-align: middle;\n",
       "    }\n",
       "\n",
       "    .dataframe tbody tr th {\n",
       "        vertical-align: top;\n",
       "    }\n",
       "\n",
       "    .dataframe thead th {\n",
       "        text-align: right;\n",
       "    }\n",
       "</style>\n",
       "<table border=\"1\" class=\"dataframe\">\n",
       "  <thead>\n",
       "    <tr style=\"text-align: right;\">\n",
       "      <th></th>\n",
       "      <th>employee_id</th>\n",
       "      <th>department</th>\n",
       "      <th>region</th>\n",
       "      <th>education</th>\n",
       "      <th>gender</th>\n",
       "      <th>recruitment_channel</th>\n",
       "      <th>no_of_trainings</th>\n",
       "      <th>age</th>\n",
       "      <th>previous_year_rating</th>\n",
       "      <th>length_of_service</th>\n",
       "      <th>awards_won</th>\n",
       "      <th>avg_training_score</th>\n",
       "      <th>is_promoted</th>\n",
       "    </tr>\n",
       "  </thead>\n",
       "  <tbody>\n",
       "    <tr>\n",
       "      <th>0</th>\n",
       "      <td>45806.0</td>\n",
       "      <td>39250.5</td>\n",
       "      <td>51312.0</td>\n",
       "      <td>44937.0</td>\n",
       "      <td>8156.5</td>\n",
       "      <td>43198.5</td>\n",
       "      <td>22189.5</td>\n",
       "      <td>32828.0</td>\n",
       "      <td>44814.0</td>\n",
       "      <td>42659.0</td>\n",
       "      <td>26769.5</td>\n",
       "      <td>7266.0</td>\n",
       "      <td>25070.5</td>\n",
       "    </tr>\n",
       "    <tr>\n",
       "      <th>1</th>\n",
       "      <td>45594.0</td>\n",
       "      <td>17019.5</td>\n",
       "      <td>29340.5</td>\n",
       "      <td>18335.0</td>\n",
       "      <td>35560.5</td>\n",
       "      <td>15223.5</td>\n",
       "      <td>22189.5</td>\n",
       "      <td>16286.0</td>\n",
       "      <td>44814.0</td>\n",
       "      <td>21682.5</td>\n",
       "      <td>26769.5</td>\n",
       "      <td>26265.0</td>\n",
       "      <td>25070.5</td>\n",
       "    </tr>\n",
       "    <tr>\n",
       "      <th>2</th>\n",
       "      <td>5248.0</td>\n",
       "      <td>39250.5</td>\n",
       "      <td>12085.5</td>\n",
       "      <td>18335.0</td>\n",
       "      <td>35560.5</td>\n",
       "      <td>43198.5</td>\n",
       "      <td>22189.5</td>\n",
       "      <td>29934.5</td>\n",
       "      <td>19757.5</td>\n",
       "      <td>38442.0</td>\n",
       "      <td>26769.5</td>\n",
       "      <td>9964.5</td>\n",
       "      <td>25070.5</td>\n",
       "    </tr>\n",
       "    <tr>\n",
       "      <th>3</th>\n",
       "      <td>1773.0</td>\n",
       "      <td>39250.5</td>\n",
       "      <td>33142.0</td>\n",
       "      <td>18335.0</td>\n",
       "      <td>35560.5</td>\n",
       "      <td>15223.5</td>\n",
       "      <td>48372.0</td>\n",
       "      <td>41636.0</td>\n",
       "      <td>3112.0</td>\n",
       "      <td>47826.0</td>\n",
       "      <td>26769.5</td>\n",
       "      <td>9964.5</td>\n",
       "      <td>25070.5</td>\n",
       "    </tr>\n",
       "    <tr>\n",
       "      <th>4</th>\n",
       "      <td>34271.0</td>\n",
       "      <td>51239.5</td>\n",
       "      <td>36186.5</td>\n",
       "      <td>18335.0</td>\n",
       "      <td>35560.5</td>\n",
       "      <td>15223.5</td>\n",
       "      <td>22189.5</td>\n",
       "      <td>48803.5</td>\n",
       "      <td>19757.5</td>\n",
       "      <td>7889.5</td>\n",
       "      <td>26769.5</td>\n",
       "      <td>37321.0</td>\n",
       "      <td>25070.5</td>\n",
       "    </tr>\n",
       "    <tr>\n",
       "      <th>...</th>\n",
       "      <td>...</td>\n",
       "      <td>...</td>\n",
       "      <td>...</td>\n",
       "      <td>...</td>\n",
       "      <td>...</td>\n",
       "      <td>...</td>\n",
       "      <td>...</td>\n",
       "      <td>...</td>\n",
       "      <td>...</td>\n",
       "      <td>...</td>\n",
       "      <td>...</td>\n",
       "      <td>...</td>\n",
       "      <td>...</td>\n",
       "    </tr>\n",
       "    <tr>\n",
       "      <th>54803</th>\n",
       "      <td>2112.0</td>\n",
       "      <td>51239.5</td>\n",
       "      <td>6135.0</td>\n",
       "      <td>18335.0</td>\n",
       "      <td>35560.5</td>\n",
       "      <td>43198.5</td>\n",
       "      <td>22189.5</td>\n",
       "      <td>50716.0</td>\n",
       "      <td>19757.5</td>\n",
       "      <td>53225.5</td>\n",
       "      <td>26769.5</td>\n",
       "      <td>40098.0</td>\n",
       "      <td>25070.5</td>\n",
       "    </tr>\n",
       "    <tr>\n",
       "      <th>54804</th>\n",
       "      <td>52192.0</td>\n",
       "      <td>17019.5</td>\n",
       "      <td>38146.0</td>\n",
       "      <td>44937.0</td>\n",
       "      <td>8156.5</td>\n",
       "      <td>15223.5</td>\n",
       "      <td>22189.5</td>\n",
       "      <td>37783.0</td>\n",
       "      <td>8336.0</td>\n",
       "      <td>33299.5</td>\n",
       "      <td>26769.5</td>\n",
       "      <td>19253.5</td>\n",
       "      <td>25070.5</td>\n",
       "    </tr>\n",
       "    <tr>\n",
       "      <th>54805</th>\n",
       "      <td>9696.0</td>\n",
       "      <td>2676.5</td>\n",
       "      <td>305.5</td>\n",
       "      <td>18335.0</td>\n",
       "      <td>35560.5</td>\n",
       "      <td>15223.5</td>\n",
       "      <td>22189.5</td>\n",
       "      <td>6488.0</td>\n",
       "      <td>44814.0</td>\n",
       "      <td>14748.0</td>\n",
       "      <td>26769.5</td>\n",
       "      <td>41144.5</td>\n",
       "      <td>25070.5</td>\n",
       "    </tr>\n",
       "    <tr>\n",
       "      <th>54806</th>\n",
       "      <td>9476.0</td>\n",
       "      <td>39250.5</td>\n",
       "      <td>54598.5</td>\n",
       "      <td>NaN</td>\n",
       "      <td>35560.5</td>\n",
       "      <td>43198.5</td>\n",
       "      <td>22189.5</td>\n",
       "      <td>12751.0</td>\n",
       "      <td>3112.0</td>\n",
       "      <td>7889.5</td>\n",
       "      <td>26769.5</td>\n",
       "      <td>NaN</td>\n",
       "      <td>25070.5</td>\n",
       "    </tr>\n",
       "    <tr>\n",
       "      <th>54807</th>\n",
       "      <td>36063.0</td>\n",
       "      <td>9097.5</td>\n",
       "      <td>29340.5</td>\n",
       "      <td>18335.0</td>\n",
       "      <td>35560.5</td>\n",
       "      <td>15223.5</td>\n",
       "      <td>22189.5</td>\n",
       "      <td>6488.0</td>\n",
       "      <td>3112.0</td>\n",
       "      <td>28016.5</td>\n",
       "      <td>26769.5</td>\n",
       "      <td>7266.0</td>\n",
       "      <td>25070.5</td>\n",
       "    </tr>\n",
       "  </tbody>\n",
       "</table>\n",
       "<p>54808 rows × 13 columns</p>\n",
       "</div>"
      ],
      "text/plain": [
       "       employee_id  department   region  education   gender  \\\n",
       "0          45806.0     39250.5  51312.0    44937.0   8156.5   \n",
       "1          45594.0     17019.5  29340.5    18335.0  35560.5   \n",
       "2           5248.0     39250.5  12085.5    18335.0  35560.5   \n",
       "3           1773.0     39250.5  33142.0    18335.0  35560.5   \n",
       "4          34271.0     51239.5  36186.5    18335.0  35560.5   \n",
       "...            ...         ...      ...        ...      ...   \n",
       "54803       2112.0     51239.5   6135.0    18335.0  35560.5   \n",
       "54804      52192.0     17019.5  38146.0    44937.0   8156.5   \n",
       "54805       9696.0      2676.5    305.5    18335.0  35560.5   \n",
       "54806       9476.0     39250.5  54598.5        NaN  35560.5   \n",
       "54807      36063.0      9097.5  29340.5    18335.0  35560.5   \n",
       "\n",
       "       recruitment_channel  no_of_trainings      age  previous_year_rating  \\\n",
       "0                  43198.5          22189.5  32828.0               44814.0   \n",
       "1                  15223.5          22189.5  16286.0               44814.0   \n",
       "2                  43198.5          22189.5  29934.5               19757.5   \n",
       "3                  15223.5          48372.0  41636.0                3112.0   \n",
       "4                  15223.5          22189.5  48803.5               19757.5   \n",
       "...                    ...              ...      ...                   ...   \n",
       "54803              43198.5          22189.5  50716.0               19757.5   \n",
       "54804              15223.5          22189.5  37783.0                8336.0   \n",
       "54805              15223.5          22189.5   6488.0               44814.0   \n",
       "54806              43198.5          22189.5  12751.0                3112.0   \n",
       "54807              15223.5          22189.5   6488.0                3112.0   \n",
       "\n",
       "       length_of_service  awards_won  avg_training_score  is_promoted  \n",
       "0                42659.0     26769.5              7266.0      25070.5  \n",
       "1                21682.5     26769.5             26265.0      25070.5  \n",
       "2                38442.0     26769.5              9964.5      25070.5  \n",
       "3                47826.0     26769.5              9964.5      25070.5  \n",
       "4                 7889.5     26769.5             37321.0      25070.5  \n",
       "...                  ...         ...                 ...          ...  \n",
       "54803            53225.5     26769.5             40098.0      25070.5  \n",
       "54804            33299.5     26769.5             19253.5      25070.5  \n",
       "54805            14748.0     26769.5             41144.5      25070.5  \n",
       "54806             7889.5     26769.5                 NaN      25070.5  \n",
       "54807            28016.5     26769.5              7266.0      25070.5  \n",
       "\n",
       "[54808 rows x 13 columns]"
      ]
     },
     "execution_count": 77,
     "metadata": {},
     "output_type": "execute_result"
    }
   ],
   "source": [
    "df.rank()"
   ]
  },
  {
   "cell_type": "code",
   "execution_count": 81,
   "id": "2c38b88e-1166-4666-b0f9-28e9edd457b0",
   "metadata": {},
   "outputs": [
    {
     "data": {
      "text/plain": [
       "RangeIndex(start=0, stop=54808, step=1)"
      ]
     },
     "execution_count": 81,
     "metadata": {},
     "output_type": "execute_result"
    }
   ],
   "source": [
    "df.index"
   ]
  },
  {
   "cell_type": "code",
   "execution_count": 83,
   "id": "a36b0bd6-324e-4f8d-b174-15c716cd8b89",
   "metadata": {},
   "outputs": [],
   "source": [
    "df = pd.DataFrame( \n",
    "     [[1, 2, 3], \n",
    "     [4, 6, 8],\n",
    "     [10, 11, 12]],\n",
    "     index=[4, 6, 8], \n",
    "     columns=['a', 'b', 'c'])"
   ]
  },
  {
   "cell_type": "code",
   "execution_count": 98,
   "id": "33ff83b6-dd12-4660-995b-543fe5ee42c1",
   "metadata": {},
   "outputs": [
    {
     "data": {
      "text/plain": [
       "<function pandas.core.frame.DataFrame.add(self, other, axis: 'Axis' = 'columns', level=None, fill_value=None) -> 'DataFrame'>"
      ]
     },
     "execution_count": 98,
     "metadata": {},
     "output_type": "execute_result"
    }
   ],
   "source": [
    "pd.DataFrame.add"
   ]
  },
  {
   "cell_type": "code",
   "execution_count": 100,
   "id": "a96a05c8-1216-410b-9a96-ad8108a02384",
   "metadata": {},
   "outputs": [
    {
     "data": {
      "text/plain": [
       "<function pandas.core.frame.DataFrame.sub(self, other, axis: 'Axis' = 'columns', level=None, fill_value=None) -> 'DataFrame'>"
      ]
     },
     "execution_count": 100,
     "metadata": {},
     "output_type": "execute_result"
    }
   ],
   "source": [
    "pd.DataFrame.sub"
   ]
  },
  {
   "cell_type": "code",
   "execution_count": 102,
   "id": "d5a523f0-7127-4f8d-b773-5f5b57c6e581",
   "metadata": {},
   "outputs": [
    {
     "data": {
      "text/plain": [
       "<function pandas.core.frame.DataFrame.mul(self, other, axis: 'Axis' = 'columns', level=None, fill_value=None) -> 'DataFrame'>"
      ]
     },
     "execution_count": 102,
     "metadata": {},
     "output_type": "execute_result"
    }
   ],
   "source": [
    "pd.DataFrame.mul"
   ]
  },
  {
   "cell_type": "code",
   "execution_count": 104,
   "id": "a23d246f-48ca-4348-adab-da90f3cc9892",
   "metadata": {},
   "outputs": [
    {
     "data": {
      "text/plain": [
       "<function pandas.core.frame.DataFrame.truediv(self, other, axis: 'Axis' = 'columns', level=None, fill_value=None) -> 'DataFrame'>"
      ]
     },
     "execution_count": 104,
     "metadata": {},
     "output_type": "execute_result"
    }
   ],
   "source": [
    "pd.DataFrame.div"
   ]
  },
  {
   "cell_type": "code",
   "execution_count": null,
   "id": "82f71d58-eb31-4acc-adbb-34623db269dd",
   "metadata": {},
   "outputs": [],
   "source": []
  }
 ],
 "metadata": {
  "kernelspec": {
   "display_name": "Python [conda env:base] *",
   "language": "python",
   "name": "conda-base-py"
  },
  "language_info": {
   "codemirror_mode": {
    "name": "ipython",
    "version": 3
   },
   "file_extension": ".py",
   "mimetype": "text/x-python",
   "name": "python",
   "nbconvert_exporter": "python",
   "pygments_lexer": "ipython3",
   "version": "3.12.7"
  }
 },
 "nbformat": 4,
 "nbformat_minor": 5
}
